{
 "cells": [
  {
   "cell_type": "markdown",
   "id": "5ab031a9-ea9f-42a3-9fcf-f5f5e77dd59f",
   "metadata": {},
   "source": [
    "test \n"
   ]
  },
  {
   "cell_type": "code",
   "execution_count": null,
   "id": "494677e7-0018-42c8-b516-f28500d36555",
   "metadata": {},
   "outputs": [],
   "source": []
  }
 ],
 "metadata": {
  "kernelspec": {
   "display_name": "Python 3 (ipykernel)",
   "language": "python",
   "name": "python3"
  },
  "language_info": {
   "codemirror_mode": {
    "name": "ipython",
    "version": 3
   },
   "file_extension": ".py",
   "mimetype": "text/x-python",
   "name": "python",
   "nbconvert_exporter": "python",
   "pygments_lexer": "ipython3",
   "version": "3.9.13"
  }
 },
 "nbformat": 4,
 "nbformat_minor": 5
}
